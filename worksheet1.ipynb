{
 "cells": [
  {
   "cell_type": "code",
   "execution_count": 1,
   "metadata": {
    "deletable": false,
    "editable": false
   },
   "outputs": [],
   "source": [
    "# Initialize Otter\n",
    "import otter\n",
    "grader = otter.Notebook(\"worksheet1.ipynb\")"
   ]
  },
  {
   "cell_type": "markdown",
   "metadata": {},
   "source": [
    "# Worksheet 1: Introduction to noSQL databases and document model with MongoDB"
   ]
  },
  {
   "cell_type": "markdown",
   "metadata": {},
   "source": [
    "Welcome! In this week, we will start off easy with some exercise to help you set up the environment in which you will be using for the upcoming assignment. "
   ]
  },
  {
   "cell_type": "markdown",
   "metadata": {},
   "source": [
    "First off, you will need to install Miniconda, if you haven't already"
   ]
  },
  {
   "cell_type": "markdown",
   "metadata": {},
   "source": [
    "## Install miniconda"
   ]
  },
  {
   "cell_type": "markdown",
   "metadata": {},
   "source": [
    "<details>\n",
    "<summary>macOS</summary>\n",
    "<br>\n",
    "\n",
    "You can find the Mac ARM and Intel download links here: https://conda-forge.org/miniforge/. Make sure you use the Miniforge3 installers, not the other ones listed. We will assume you downloaded the file into your Downloads folder.\n",
    "\n",
    "Once downloaded, open up a terminal and run the following command\n",
    "\n",
    ">bash ${HOME}/Downloads/Miniforge3.sh -b -p \"${HOME}/miniforge3\"\n",
    "\n",
    "After installation run the following commands\n",
    "\n",
    ">source \"${HOME}/miniforge3/etc/profile.d/conda.sh\"\n",
    ">\n",
    ">conda activate\n",
    ">\n",
    ">conda init\n",
    "\n",
    "\n",
    "\n",
    "After installation, restart the terminal. If the installation was successful, you will see (base) prepending to your prompt string. To confirm that conda is working, you can ask it which version was installed:\n",
    "\n",
    ">conda --version\n",
    "\n",
    "which should return something like this, it doesn't have to be the exact same version:\n",
    "\n",
    ">conda 24.7.1\n",
    "\n",
    "Note: If you see `zsh: command not found: conda`, see the section on Bash below to set your default Terminal shell to Bash as opposed to Zsh.\n",
    "\n",
    "You can change the default shell in your Terminal to Bash by opening the Terminal and typing:\n",
    "```\n",
    "chsh -s /bin/bash\n",
    "```\n",
    "\n",
    "You will have to quit all instances of open Terminals and then restart the Terminal for this to take effect.\n",
    "\n",
    "</details>"
   ]
  },
  {
   "cell_type": "markdown",
   "metadata": {},
   "source": [
    "<details>\n",
    "<summary>Windows</summary>\n",
    "<br>\n",
    "\n",
    "You can find the Mac ARM and Intel download links here: https://conda-forge.org/miniforge/. Make sure you use the Miniforge3 installers, not the other ones listed. We will assume you downloaded the file into your Downloads folder.\n",
    "\n",
    "Once downloaded, run the installer.\n",
    "\n",
    "Use all the default options in the installer.\n",
    "\n",
    "The install location should look something like: `C:\\Users\\YOUR_USER_NAME\\miniforge3`\n",
    "\n",
    "Note: Do not add miniforge to PATH. We will set this up later.\n",
    "\n",
    "After installation, open the Start Menu and search for the program called “Miniforge Prompt”. When this opens you will see a prompt similar to `(base) C:\\Users\\your_name`. \n",
    "\n",
    "Type the following to check that your Python installation is working:\n",
    "\n",
    "\n",
    ">python --version\n",
    "\n",
    "\n",
    "which should return Python 3.11.0 or greater:\n",
    "\n",
    ">Python 3.11.0\n",
    "\n",
    "If not, run the following command in the Miniforge Prompt, Confirm that you are in the (base) environment. Then update the base python with:\n",
    "\n",
    "> conda install python=3.11\n",
    "\n",
    "**Integrating Python with the Git Bash terminal**\n",
    "\n",
    "To avoid having to open the separate Anaconda Prompt every time we want to use Python, we can make it available from the (Git Bash) terminal, which is what we will be using most of the time. To set this up, open the “Miniforge Prompt” again and type:\n",
    "\n",
    ">conda init bash\n",
    "\n",
    "You will see that this modified a few configuration files, which makes conda visible to the terminal. Close all open terminal windows and launch a new one, you should now see that the prompt string has changed to include the word (base).\n",
    "\n",
    "</details>"
   ]
  },
  {
   "cell_type": "markdown",
   "metadata": {},
   "source": [
    "## Set up the ADSC 3610's environment"
   ]
  },
  {
   "cell_type": "markdown",
   "metadata": {},
   "source": [
    "- First off, clone the worksheet 1 github repo to your local computer. \n",
    "\n",
    "If you don't know how to clone a github repo yet, you can just open a terminal and type\n",
    "\n",
    "> git clone [insert your github URL to worksheet1 here]\n",
    "\n",
    "For example, if I were a student, I would run `git clone https://github.com/TRU-PBADS/week1-intro-nosql-quan3010`"
   ]
  },
  {
   "cell_type": "markdown",
   "metadata": {},
   "source": [
    "- Second, open a terminal, and navigate to the git folder that you just cloned locally\n",
    "\n",
    "> cd [PATH to your git repo locally]"
   ]
  },
  {
   "cell_type": "markdown",
   "metadata": {},
   "source": [
    "- Third, install the conda environment based on the provided `adsc_3610_env.yaml` file"
   ]
  },
  {
   "cell_type": "markdown",
   "metadata": {},
   "source": [
    "> conda env create -f adsc_3610_env.yaml"
   ]
  },
  {
   "cell_type": "markdown",
   "metadata": {},
   "source": [
    "This will take a while to set up the environment. You might be prompted to say y/n a few times. Once it's finished, you can open a IDE (e.g., vscode or jupyterlab) and select the adsc_3610 environment"
   ]
  },
  {
   "cell_type": "markdown",
   "metadata": {},
   "source": [
    "## Exercise 1\n",
    "\n",
    "{rubric: accuracy = 5}\n",
    "\n",
    "Follow the installation guide above. If successful, you should be able to run the following code chunk. We will try to import `pymongo` (to connect to mongoDB), `pyspark` which we will learn later, and `otter` which is an autograder package."
   ]
  },
  {
   "cell_type": "code",
   "execution_count": 2,
   "metadata": {},
   "outputs": [
    {
     "name": "stdout",
     "output_type": "stream",
     "text": [
      "4.8.0\n"
     ]
    }
   ],
   "source": [
    "import pymongo\n",
    "print(pymongo.__version__)"
   ]
  },
  {
   "cell_type": "code",
   "execution_count": 3,
   "metadata": {},
   "outputs": [
    {
     "name": "stdout",
     "output_type": "stream",
     "text": [
      "3.5.2\n"
     ]
    }
   ],
   "source": [
    "import pyspark\n",
    "print(pyspark.__version__)"
   ]
  },
  {
   "cell_type": "code",
   "execution_count": 4,
   "metadata": {},
   "outputs": [
    {
     "name": "stdout",
     "output_type": "stream",
     "text": [
      "5.6.0\n"
     ]
    }
   ],
   "source": [
    "import otter\n",
    "\n",
    "print(otter.__version__)\n"
   ]
  },
  {
   "cell_type": "markdown",
   "metadata": {},
   "source": [
    "## Exercise 2\n",
    "\n",
    "{rubric: accuracy = 5}\n",
    "\n",
    "In this course, there will be some autograded question. Now I would like to you test one of them to see if it's working. "
   ]
  },
  {
   "cell_type": "markdown",
   "metadata": {},
   "source": [
    "Write a simply Pythonofunction to sum up two numbers"
   ]
  },
  {
   "cell_type": "code",
   "execution_count": 5,
   "metadata": {
    "tags": []
   },
   "outputs": [],
   "source": [
    "def sum(a,b):\n",
    "    return a+b"
   ]
  },
  {
   "cell_type": "code",
   "execution_count": 6,
   "metadata": {},
   "outputs": [
    {
     "data": {
      "text/plain": [
       "5"
      ]
     },
     "execution_count": 6,
     "metadata": {},
     "output_type": "execute_result"
    }
   ],
   "source": [
    "sum(2,3)"
   ]
  },
  {
   "cell_type": "markdown",
   "metadata": {
    "deletable": false,
    "editable": false
   },
   "source": [
    "Run the cell below to test if your sum function pass the autograded test. You should see a message like \"q1 passed! 🎉\""
   ]
  },
  {
   "cell_type": "code",
   "execution_count": 7,
   "metadata": {
    "deletable": false,
    "editable": false
   },
   "outputs": [
    {
     "data": {
      "text/html": [
       "<p><strong><pre style='display: inline;'>q1</pre></strong> passed! 🎉</p>"
      ],
      "text/plain": [
       "q1 results: All test cases passed!"
      ]
     },
     "execution_count": 7,
     "metadata": {},
     "output_type": "execute_result"
    }
   ],
   "source": [
    "grader.check(\"q1\")"
   ]
  },
  {
   "cell_type": "markdown",
   "metadata": {},
   "source": [
    "If you run into an error like this\n",
    "\n",
    "```python\n",
    "---------------------------------------------------------------------------\n",
    "NameError                                 Traceback (most recent call last)\n",
    "Cell In[2], line 1\n",
    "----> 1 grader.check(\"q1\")\n",
    "\n",
    "NameError: name 'grader' is not defined\n",
    "```\n",
    "\n",
    "Then make sure you run the first cell, on top of this notebook, to initialize otter-grader"
   ]
  },
  {
   "cell_type": "markdown",
   "metadata": {},
   "source": [
    "## Exercise 3: Create a cluster on mongoDB Atlas"
   ]
  },
  {
   "cell_type": "markdown",
   "metadata": {},
   "source": [
    "In this exercise, we will create a free cluster on mongoDB Atlas and load sample datasets. \n",
    "\n",
    "### 3.1 \n",
    "\n",
    "{rubric: completion = 5}\n",
    "\n",
    "Please watch the following tutorial and create your own cluster"
   ]
  },
  {
   "cell_type": "markdown",
   "metadata": {},
   "source": [
    "<iframe width=\"560\" height=\"315\" src=\"https://www.youtube.com/embed/jXgJyuBeb_o?si=70SdrYFZ9JSUiM65\" title=\"YouTube video player\" frameborder=\"0\" allow=\"accelerometer; autoplay; clipboard-write; encrypted-media; gyroscope; picture-in-picture; web-share\" referrerpolicy=\"strict-origin-when-cross-origin\" allowfullscreen></iframe>"
   ]
  },
  {
   "cell_type": "markdown",
   "metadata": {},
   "source": [
    "### 3.2 \n",
    "\n",
    "{rubric: accuracy = 5}\n",
    "\n",
    "After loading the data, open the `sample_restaurant` database and answer the following questions:\n",
    "\n",
    "- How many collections are present in the `sample_restaurant` database?\n",
    "A.2\n",
    "- List the number of documents and the storage size of each collection in the `sample_restaurant` database\n",
    "A.Two\n",
    "neighbourhood -1.83 MB\n",
    "restaurants - 4 MB"
   ]
  },
  {
   "cell_type": "markdown",
   "metadata": {},
   "source": [
    "Hints: You can read more about the documentation of `sample_restaurant` database here https://www.mongodb.com/docs/atlas/sample-data/sample-restaurants/"
   ]
  },
  {
   "cell_type": "markdown",
   "metadata": {},
   "source": [
    "### 3.3\n",
    "\n",
    "{rubric: accuracy = 5}\n",
    "\n",
    "Open the `restaurants` collection. Filter for this ObjectId \n",
    "\n",
    "> {_id: ObjectId('5eb3d668b31de5d588f4292c')}\n",
    "\n",
    "Answer following questions:\n",
    "\n",
    "- What are the coordinates of that restaurant?\n",
    "A.\n",
    "0: -74.1377286\n",
    "1:40.6119572\n",
    "- Which borough does this restaurant locate in?\n",
    "A.Staten Island\n",
    "- How many reviews did this restaurant get?\n",
    "A.4\n",
    "- What is the lowest rating score?\n",
    "A.9\n",
    "- What is the highest rating score?\n",
    "A.12"
   ]
  },
  {
   "cell_type": "markdown",
   "metadata": {},
   "source": [
    "## Exercise 4: Connect to your mongoDB using pymongo"
   ]
  },
  {
   "cell_type": "markdown",
   "metadata": {},
   "source": [
    "What you need:\n",
    "- The host URL of your mongoDB connection (should look something like `cluster0.lqirl.mongodb.net`)\n",
    "- Your mongoDB username\n",
    "- Your mongoDB password"
   ]
  },
  {
   "cell_type": "markdown",
   "metadata": {},
   "source": [
    "Modify the `credentials_mongodb.json` file with appropriate information above."
   ]
  },
  {
   "cell_type": "markdown",
   "metadata": {},
   "source": [
    "Below is the starter code to connect to your MongoDB database, provided that you have a `credentials_mongodb.json` file with the correct information."
   ]
  },
  {
   "cell_type": "code",
   "execution_count": 8,
   "metadata": {},
   "outputs": [],
   "source": [
    "from pymongo import MongoClient # import mongo client to connect\n",
    "import json # import json to load credentials\n",
    "import urllib.parse\n",
    "\n",
    "# load credentials from json file\n",
    "with open('credentials_mongodb.json') as f:\n",
    "    login = json.load(f)\n",
    "\n",
    "# assign credentials to variables\n",
    "username = login['username']\n",
    "password = urllib.parse.quote(login['password'])\n",
    "host = login['host']\n",
    "url = \"mongodb+srv://{}:{}@{}/?retryWrites=true&w=majority\".format(username, password, host)"
   ]
  },
  {
   "cell_type": "code",
   "execution_count": 9,
   "metadata": {},
   "outputs": [],
   "source": [
    "# connect to the database\n",
    "client = MongoClient(url)"
   ]
  },
  {
   "cell_type": "markdown",
   "metadata": {},
   "source": [
    "### 4.1 \n",
    "\n",
    "{rubric: accuracy = 5}\n",
    "\n",
    "List all databases in the client server\n",
    "\n",
    "Hint: See the lecture 3 for example"
   ]
  },
  {
   "cell_type": "code",
   "execution_count": 10,
   "metadata": {},
   "outputs": [
    {
     "data": {
      "text/plain": [
       "['sample_airbnb',\n",
       " 'sample_analytics',\n",
       " 'sample_geospatial',\n",
       " 'sample_guides',\n",
       " 'sample_mflix',\n",
       " 'sample_restaurants',\n",
       " 'sample_supplies',\n",
       " 'sample_training',\n",
       " 'sample_weatherdata',\n",
       " 'admin',\n",
       " 'local']"
      ]
     },
     "execution_count": 10,
     "metadata": {},
     "output_type": "execute_result"
    }
   ],
   "source": [
    "# list all databases\n",
    "client.list_database_names()"
   ]
  },
  {
   "cell_type": "markdown",
   "metadata": {},
   "source": [
    "### 4.2 \n",
    "\n",
    "{rubric: accuracy = 5}\n",
    "\n",
    "List all collections in the sample_restaurants database\n",
    "\n",
    "Hint: See the lecture 3 for example"
   ]
  },
  {
   "cell_type": "code",
   "execution_count": 11,
   "metadata": {},
   "outputs": [
    {
     "data": {
      "text/plain": [
       "['users', 'movies', 'theaters', 'comments', 'embedded_movies', 'sessions']"
      ]
     },
     "execution_count": 11,
     "metadata": {},
     "output_type": "execute_result"
    }
   ],
   "source": [
    "# list all collections in the sample_mflix database\n",
    "client.sample_mflix.list_collection_names()"
   ]
  },
  {
   "cell_type": "markdown",
   "metadata": {},
   "source": [
    "### 4.3 \n",
    "\n",
    "{rubric: accuracy = 5}\n",
    "\n",
    "Display the first document in the restaurants collection in the sample_restaurants database\n",
    "\n",
    "Hint: See the lecture 3 for example"
   ]
  },
  {
   "cell_type": "code",
   "execution_count": 12,
   "metadata": {},
   "outputs": [
    {
     "data": {
      "text/plain": [
       "{'_id': ObjectId('573a1390f29313caabcd42e8'),\n",
       " 'plot': 'A group of bandits stage a brazen train hold-up, only to find a determined posse hot on their heels.',\n",
       " 'genres': ['Short', 'Western'],\n",
       " 'runtime': 11,\n",
       " 'cast': ['A.C. Abadie',\n",
       "  \"Gilbert M. 'Broncho Billy' Anderson\",\n",
       "  'George Barnes',\n",
       "  'Justus D. Barnes'],\n",
       " 'poster': 'https://m.media-amazon.com/images/M/MV5BMTU3NjE5NzYtYTYyNS00MDVmLWIwYjgtMmYwYWIxZDYyNzU2XkEyXkFqcGdeQXVyNzQzNzQxNzI@._V1_SY1000_SX677_AL_.jpg',\n",
       " 'title': 'The Great Train Robbery',\n",
       " 'fullplot': \"Among the earliest existing films in American cinema - notable as the first film that presented a narrative story to tell - it depicts a group of cowboy outlaws who hold up a train and rob the passengers. They are then pursued by a Sheriff's posse. Several scenes have color included - all hand tinted.\",\n",
       " 'languages': ['English'],\n",
       " 'released': datetime.datetime(1903, 12, 1, 0, 0),\n",
       " 'directors': ['Edwin S. Porter'],\n",
       " 'rated': 'TV-G',\n",
       " 'awards': {'wins': 1, 'nominations': 0, 'text': '1 win.'},\n",
       " 'lastupdated': '2015-08-13 00:27:59.177000000',\n",
       " 'year': 1903,\n",
       " 'imdb': {'rating': 7.4, 'votes': 9847, 'id': 439},\n",
       " 'countries': ['USA'],\n",
       " 'type': 'movie',\n",
       " 'tomatoes': {'viewer': {'rating': 3.7, 'numReviews': 2559, 'meter': 75},\n",
       "  'fresh': 6,\n",
       "  'critic': {'rating': 7.6, 'numReviews': 6, 'meter': 100},\n",
       "  'rotten': 0,\n",
       "  'lastUpdated': datetime.datetime(2015, 8, 8, 19, 16, 10)},\n",
       " 'num_mflix_comments': 0}"
      ]
     },
     "execution_count": 12,
     "metadata": {},
     "output_type": "execute_result"
    }
   ],
   "source": [
    "# show the first document\n",
    "client.sample_mflix.movies.find_one()"
   ]
  },
  {
   "cell_type": "markdown",
   "metadata": {},
   "source": [
    "## Submission instructions\n",
    "\n",
    "{rubric: mechanics = 5}\n",
    "\n",
    "- Make sure the notebook can run from top to bottom without any error. Restart the kernel and run all cells.\n",
    "- Commit and push your notebook to the github repo\n",
    "- Double check your notebook is rendered properly on Github and you can see all the outputs clearly"
   ]
  }
 ],
 "metadata": {
  "kernelspec": {
   "display_name": "adsc_3610",
   "language": "python",
   "name": "python3"
  },
  "language_info": {
   "codemirror_mode": {
    "name": "ipython",
    "version": 3
   },
   "file_extension": ".py",
   "mimetype": "text/x-python",
   "name": "python",
   "nbconvert_exporter": "python",
   "pygments_lexer": "ipython3",
   "version": "3.12.5"
  },
  "otter": {
   "OK_FORMAT": true,
   "tests": {
    "q1": {
     "name": "q1",
     "points": 1,
     "suites": [
      {
       "cases": [
        {
         "code": ">>> assert sum(1, 2) == 3, 'Your function is not implemented correctly'\n",
         "hidden": false,
         "locked": false
        }
       ],
       "scored": true,
       "setup": "",
       "teardown": "",
       "type": "doctest"
      }
     ]
    }
   }
  }
 },
 "nbformat": 4,
 "nbformat_minor": 2
}
